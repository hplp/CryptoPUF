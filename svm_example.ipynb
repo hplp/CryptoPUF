{
 "cells": [
  {
   "cell_type": "code",
   "execution_count": 1,
   "metadata": {},
   "outputs": [],
   "source": [
    "from crypto import cryptopuf\n",
    "import numpy as np\n",
    "from sklearn.svm import SVC\n",
    "from sklearn.metrics import accuracy_score\n"
   ]
  },
  {
   "cell_type": "code",
   "execution_count": null,
   "metadata": {},
   "outputs": [],
   "source": [
    "# Function to generate CRPs and train SVM\n",
    "def train_and_evaluate_svm(num_training_crps, num_test_challenges):\n",
    "    print(f\"Training with {num_training_crps} CRPs...\")\n",
    "    np.random.seed(seed)\n",
    "    \n",
    "    # Generate challenges for training and testing\n",
    "    challenges = np.random.randint(0, 2, size=(num_training_crps, num_bits), dtype=np.uint8) * 2 - 1  # Convert to {-1, 1}\n",
    "    test_challenges = np.random.randint(0, 2, size=(num_test_challenges, num_bits), dtype=np.uint8) * 2 - 1\n",
    "\n",
    "    # Instantiate CryptoPUF\n",
    "    tinyjambu_key = np.random.bytes(16).hex()  # Randomly generated 128-bit key\n",
    "    tinyjambu_nonce = \"000000000000000000000000\"  # 12 bytes = 96 bits\n",
    "    crypto_puf = cryptopuf.CryptoPUF(challenge_length=num_bits, key=tinyjambu_key, nonce=tinyjambu_nonce, crypto = 'tinyjambu', seed = seed)\n",
    "\n",
    "    # Generate responses using CryptoPUF's eval function\n",
    "    responses = crypto_puf.eval(challenges)\n",
    "    test_responses = crypto_puf.eval(test_challenges)\n",
    "\n",
    "    # Train SVM model\n",
    "    svm_model = SVC(kernel='rbf', C=1.0, gamma='scale')\n",
    "    svm_model.fit(challenges, responses.ravel())\n",
    "    print(f\"Training completed for {num_training_crps} CRPs.\")\n",
    "\n",
    "    # Predict responses using the trained SVM model\n",
    "    predicted_responses = svm_model.predict(test_challenges)\n",
    "\n",
    "    # Calculate accuracy\n",
    "    accuracy = accuracy_score(test_responses, predicted_responses)\n",
    "    print(f\"Accuracy: {accuracy:.4f}\\n\")\n",
    "    return accuracy"
   ]
  },
  {
   "cell_type": "code",
   "execution_count": 3,
   "metadata": {},
   "outputs": [
    {
     "name": "stdout",
     "output_type": "stream",
     "text": [
      "Training with 5000 CRPs...\n",
      "Initializing CryptoPUF based on tinyjambu crypto core...\n",
      "Training completed for 5000 CRPs.\n",
      "Accuracy: 0.5010\n",
      "\n",
      "Final accuracy with 5000 training CRPs: 0.5010\n"
     ]
    }
   ],
   "source": [
    "# Set up variables\n",
    "num_bits = 128              # Number of bits in each challenge (matching block size)\n",
    "num_training_crps = 5000     # Number of CRPs for training\n",
    "num_test_challenges = 1000   # Number of CRPs for testing\n",
    "\n",
    "# Train and evaluate the model once with 5,000 training CRPs\n",
    "seed = 58\n",
    "accuracy = train_and_evaluate_svm(num_training_crps, num_test_challenges)\n",
    "print(f\"Final accuracy with {num_training_crps} training CRPs: {accuracy:.4f}\")"
   ]
  }
 ],
 "metadata": {
  "kernelspec": {
   "display_name": "base",
   "language": "python",
   "name": "python3"
  },
  "language_info": {
   "codemirror_mode": {
    "name": "ipython",
    "version": 3
   },
   "file_extension": ".py",
   "mimetype": "text/x-python",
   "name": "python",
   "nbconvert_exporter": "python",
   "pygments_lexer": "ipython3",
   "version": "3.12.4"
  }
 },
 "nbformat": 4,
 "nbformat_minor": 2
}
